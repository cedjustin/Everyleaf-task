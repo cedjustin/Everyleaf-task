{
  "nbformat": 4,
  "nbformat_minor": 0,
  "metadata": {
    "colab": {
      "name": "firstnotebook.ipynb",
      "provenance": [],
      "collapsed_sections": [],
      "authorship_tag": "ABX9TyO3+zCZSTdfDW4tpUJqq1jd",
      "include_colab_link": true
    },
    "kernelspec": {
      "name": "python3",
      "display_name": "Python 3"
    }
  },
  "cells": [
    {
      "cell_type": "markdown",
      "metadata": {
        "id": "view-in-github",
        "colab_type": "text"
      },
      "source": [
        "<a href=\"https://colab.research.google.com/github/cedjustin/Everyleaf-task/blob/master/firstnotebook.ipynb\" target=\"_parent\"><img src=\"https://colab.research.google.com/assets/colab-badge.svg\" alt=\"Open In Colab\"/></a>"
      ]
    },
    {
      "cell_type": "code",
      "metadata": {
        "id": "RYo1E2MPYHn8",
        "colab_type": "code",
        "colab": {
          "base_uri": "https://localhost:8080/",
          "height": 346
        },
        "outputId": "5cd550dc-a0a9-4645-d017-48a33084af11"
      },
      "source": [
        "# %%timeit\n",
        "import matplotlib.pyplot as plt\n",
        "THICKNESS = 0.00008\n",
        "exponential=1\n",
        "folded_thickness=1\n",
        "empty_list=[]\n",
        "empty_list.append(THICKNESS)\n",
        "for i in range(43):\n",
        "  exponential = exponential*2\n",
        "  folded_thickness= THICKNESS*exponential\n",
        "  empty_list.append(folded_thickness)\n",
        "print ( \"​ ​Thickness: {} meters​ ​\".format(folded_thickness))\n",
        "print ( \"​​Thickness: {: .2f} kilometers ​\".format(folded_thickness/1000))\n",
        "print (\"empty_list= {}\".format(len(empty_list)))\n",
        "plt.title ( \"​ ​thickness of folded paper​ ​\" ) \n",
        "plt.xlabel ( \"​ ​number of folds​ ​\" ) \n",
        "plt.ylabel ( \"​ ​thickness [m]​ ​\") \n",
        "plt.plot(empty_list, linestyle='dashed', linewidth=2, color='green')\n",
        "plt.show()"
      ],
      "execution_count": 162,
      "outputs": [
        {
          "output_type": "stream",
          "text": [
            "​ ​Thickness: 703687441.77664 meters​ ​\n",
            "​​Thickness:  703687.44 kilometers ​\n",
            "empty_list= 44\n"
          ],
          "name": "stdout"
        },
        {
          "output_type": "display_data",
          "data": {
            "image/png": "[encoded data removed]",
            "text/plain": [
              "<Figure size 432x288 with 1 Axes>"
            ]
          },
          "metadata": {
            "tags": [],
            "needs_background": "light"
          }
        }
      ]
    }
  ]
}